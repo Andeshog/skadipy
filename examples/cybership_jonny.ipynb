{
 "cells": [
  {
   "cell_type": "markdown",
   "metadata": {},
   "source": [
    "# Control allocation example for Cybership Jonny "
   ]
  },
  {
   "cell_type": "markdown",
   "metadata": {},
   "source": [
    "For the sake of testing, set `PYTHONPATH` so notebook can be run without installing the package."
   ]
  },
  {
   "cell_type": "code",
   "execution_count": 1,
   "metadata": {},
   "outputs": [],
   "source": [
    "import sys\n",
    "sys.path.insert(0, \"../src\")"
   ]
  },
  {
   "cell_type": "markdown",
   "metadata": {},
   "source": [
    "First, import the control allocation packge"
   ]
  },
  {
   "cell_type": "code",
   "execution_count": 2,
   "metadata": {},
   "outputs": [],
   "source": [
    "import skadipy\n",
    "import numpy as np\n",
    "import ipywidgets as widgets\n",
    "import matplotlib.pyplot as plt\n",
    "# Use interactive backend\n",
    "%matplotlib qt5"
   ]
  },
  {
   "cell_type": "markdown",
   "metadata": {},
   "source": [
    "Now, we describe the thrusters. There are different options for thrusters. These are `Fixed`, `Aximuth`, `Vectored`.\n",
    "It is defined by the position of the thruster and the direction that its directed at.\n",
    "Orientation of the thruster is defined using quaternions.\n",
    "\n",
    "Depending on the allocator choice, `extra_attributes` dictionary changes.\n",
    "For Cybership Jonny, we use MinimumMagnitude and Azimuth Rate allocator. It takes `saturation_limit` and `rate_limit` values to set thrust limits for the thrusters."
   ]
  },
  {
   "cell_type": "code",
   "execution_count": 3,
   "metadata": {},
   "outputs": [],
   "source": [
    "tunnel = skadipy.actuator.Fixed(\n",
    "    position=skadipy.toolbox.Point([0.3875, 0.0, 0.0]),\n",
    "    orientation=skadipy.toolbox.Quaternion(\n",
    "        axis=(0.0, 0.0, 1.0), radians=np.pi / 2.0),\n",
    "    extra_attributes={\n",
    "        \"rate_limit\": 1.0,\n",
    "        \"saturation_limit\": 1.0,\n",
    "        \"name\": \"tunnel\",\n",
    "    }\n",
    ")\n",
    "port_azimuth = skadipy.actuator.Azimuth(\n",
    "    position=skadipy.toolbox.Point([-0.4574, -0.055, 0.0]),\n",
    "    extra_attributes={\n",
    "        \"rate_limit\": 1.0,\n",
    "        \"saturation_limit\": 1.0,\n",
    "        \"reference_angle\":  np.pi / 4.0,\n",
    "        \"name\": \"port_azimuth\",\n",
    "    }\n",
    ")\n",
    "starboard_azimuth = skadipy.actuator.Azimuth(\n",
    "    position=skadipy.toolbox.Point([-0.4547, 0.055, 0.0]),\n",
    "    extra_attributes={\n",
    "        \"rate_limit\": 1.0,\n",
    "        \"saturation_limit\": 1.0,\n",
    "        \"reference_angle\": - np.pi / 4.0,\n",
    "        \"name\": \"starboard_azimuth\",\n",
    "    }\n",
    ")\n",
    "\n",
    "# Put all actuators in a list and create the allocator object\n",
    "actuators = [\n",
    "    tunnel,\n",
    "    port_azimuth,\n",
    "    starboard_azimuth,\n",
    "]"
   ]
  },
  {
   "cell_type": "markdown",
   "metadata": {},
   "source": [
    "Now we need to describe what degrees of freedom we want to control.\n",
    "To specify that, we use `ForceTorqueComponent` class.\n",
    "Possible options are\n",
    "\n",
    "- `ForceTorqueCompontent.X` for surge\n",
    "- `ForceTorqueCompontent.Y` for sway\n",
    "- `ForceTorqueCompontent.Z` for heave\n",
    "- `ForceTorqueCompontent.K` for roll\n",
    "- `ForceTorqueCompontent.M` for pitch\n",
    "- `ForceTorqueCompontent.N` for yaw\n"
   ]
  },
  {
   "cell_type": "code",
   "execution_count": 4,
   "metadata": {},
   "outputs": [],
   "source": [
    "# List all the degrees of freedom that we want to control\n",
    "dofs = [\n",
    "    skadipy.allocator._base.ForceTorqueComponent.X,\n",
    "    skadipy.allocator._base.ForceTorqueComponent.Y,\n",
    "    skadipy.allocator._base.ForceTorqueComponent.N\n",
    "]"
   ]
  },
  {
   "cell_type": "markdown",
   "metadata": {},
   "source": [
    "Next, we create the allocator object using the thrusters and the degrees of freedom we want to control."
   ]
  },
  {
   "cell_type": "code",
   "execution_count": 5,
   "metadata": {},
   "outputs": [],
   "source": [
    "import skadipy.allocator.reference_filters\n",
    "\n",
    "# Create the allocator object\n",
    "allocator = skadipy.allocator.reference_filters.MinimumMagnitudeAndAzimuth(\n",
    "    actuators=actuators,\n",
    "    force_torque_components=dofs,\n",
    "    gamma=0.1,\n",
    "    mu=0.1,\n",
    "    rho=100,\n",
    "    time_step=0.1,\n",
    "    control_barrier_function=skadipy.safety.ControlBarrierFunctionType.ABSOLUTE\n",
    ")"
   ]
  },
  {
   "cell_type": "markdown",
   "metadata": {},
   "source": [
    "To allow change in vehicle configuration, allocation matrix can be updated using `update_allocation_matrix` method.\n",
    "\n",
    "Finally, we can use the allocator to allocate the forces and torques to the thrusters."
   ]
  },
  {
   "cell_type": "code",
   "execution_count": 6,
   "metadata": {},
   "outputs": [],
   "source": [
    "# Compute or update the configuration matrix\n",
    "allocator.compute_configuration_matrix()"
   ]
  },
  {
   "cell_type": "markdown",
   "metadata": {},
   "source": [
    "Regardless of the DOF we want to control, the allocator will always return forces and torques in the body frame.\n",
    "If we want to control the vehicle in the NED frame, we need to rotate the forces and torques to the NED frame.\n",
    "\n",
    "The $\\tau_{\\text{cmd}}$ **must** be in the form of\n",
    "\n",
    "$$\n",
    "\\tau_{\\text{cmd}} = \\begin{bmatrix} F_x & F_y & F_z & M_x & M_y & M_z \\end{bmatrix}\n",
    "$$\n",
    "\n",
    "where $F_x, F_y, F_z$ are the forces in the body frame and $M_x, M_y, M_z$ are the torques in the body frame."
   ]
  },
  {
   "cell_type": "code",
   "execution_count": 7,
   "metadata": {},
   "outputs": [
    {
     "name": "stdout",
     "output_type": "stream",
     "text": [
      "Allocated [[1.16666667e+00]\n",
      " [8.67361738e-19]\n",
      " [0.00000000e+00]\n",
      " [0.00000000e+00]\n",
      " [0.00000000e+00]\n",
      " [0.00000000e+00]]\n"
     ]
    }
   ],
   "source": [
    "tau_cmd = np.array(\n",
    "    [[1.0],\n",
    "     [0],\n",
    "     [0],\n",
    "     [0],\n",
    "     [0],\n",
    "     [0.0]], dtype=np.float32)\n",
    "\n",
    "# Allocate a control signal\n",
    "allocator.allocate(tau=tau_cmd)\n",
    "\n",
    "# Get the allocated force\n",
    "print(f\"Allocated {allocator.allocated}\")"
   ]
  },
  {
   "cell_type": "markdown",
   "metadata": {},
   "source": [
    "To get commanded forces to the thrusters, we can use the actuator objects."
   ]
  },
  {
   "cell_type": "code",
   "execution_count": 8,
   "metadata": {},
   "outputs": [
    {
     "name": "stdout",
     "output_type": "stream",
     "text": [
      "tunnel: [[2.01128555e-05]]\n",
      "port_azimuth: [[0.5833353 ]\n",
      " [0.00635386]]\n",
      "starboard_azimuth: [[ 0.58333137]\n",
      " [-0.00637397]]\n"
     ]
    }
   ],
   "source": [
    "for actuator in actuators:\n",
    "    print(f\"{actuator.extra_attributes['name']}: {actuator.force}\")"
   ]
  },
  {
   "cell_type": "code",
   "execution_count": 9,
   "metadata": {},
   "outputs": [
    {
     "data": {
      "application/vnd.jupyter.widget-view+json": {
       "model_id": "f497810500104c98b9c355c4a2638630",
       "version_major": 2,
       "version_minor": 0
      },
      "text/plain": [
       "FloatSlider(value=1.0, description='F_x:', max=10.0, min=-10.0)"
      ]
     },
     "metadata": {},
     "output_type": "display_data"
    },
    {
     "data": {
      "application/vnd.jupyter.widget-view+json": {
       "model_id": "afa5ded7777144119790d099d1b718b7",
       "version_major": 2,
       "version_minor": 0
      },
      "text/plain": [
       "FloatSlider(value=0.0, description='F_y:', max=10.0, min=-10.0)"
      ]
     },
     "metadata": {},
     "output_type": "display_data"
    },
    {
     "data": {
      "application/vnd.jupyter.widget-view+json": {
       "model_id": "f96abe416f354abe9806eed5249e081d",
       "version_major": 2,
       "version_minor": 0
      },
      "text/plain": [
       "FloatSlider(value=1.0, description='M_z:', max=10.0, min=-10.0)"
      ]
     },
     "metadata": {},
     "output_type": "display_data"
    },
    {
     "data": {
      "application/vnd.jupyter.widget-view+json": {
       "model_id": "0a48b8c2b3454267bea7c6f5b57edc18",
       "version_major": 2,
       "version_minor": 0
      },
      "text/plain": [
       "Button(description='Allocate', style=ButtonStyle())"
      ]
     },
     "metadata": {},
     "output_type": "display_data"
    }
   ],
   "source": [
    "# Create sliders for F_x, F_y, and M_z\n",
    "F_x_slider = widgets.FloatSlider(value=1.0, min=-10.0, max=10.0, step=0.1, description='F_x:')\n",
    "F_y_slider = widgets.FloatSlider(value=0.0, min=-10.0, max=10.0, step=0.1, description='F_y:')\n",
    "M_z_slider = widgets.FloatSlider(value=1.0, min=-10.0, max=10.0, step=0.1, description='M_z:')\n",
    "\n",
    "# Create a button to trigger the allocator\n",
    "allocate_button = widgets.Button(description='Allocate')\n",
    "\n",
    "plt.ion()\n",
    "fig, ax = plt.subplots(figsize=(10, 10))\n",
    "\n",
    "# Function to update tau_cmd and allocate forces\n",
    "def allocate_forces(button):\n",
    "    global tau_cmd\n",
    "    tau_cmd[0, 0] = F_x_slider.value\n",
    "    tau_cmd[1, 0] = F_y_slider.value\n",
    "    tau_cmd[5, 0] = M_z_slider.value\n",
    "    allocator.allocate(tau=tau_cmd)\n",
    "\n",
    "    positions = [actuator.position for actuator in actuators]\n",
    "    forces = [actuator.force for actuator in actuators]\n",
    "    # Correct size for tunnel thruster to be size of two\n",
    "\n",
    "    # Find tunnel thrusters and correct the size of the forces\n",
    "    for i, actuator in enumerate(actuators):\n",
    "        if forces[i].shape[0] == 1:\n",
    "            forces[i] = np.concatenate((forces[i], np.zeros((1,1))), axis=0)\n",
    "            break\n",
    "\n",
    "    # Extract X and Y components of positions and forces\n",
    "    x_positions = [pos.x for pos in positions]\n",
    "    y_positions = [pos.y for pos in positions]\n",
    "    x_forces = [force[0] for force in forces]\n",
    "    y_forces = [force[1] for force in forces]\n",
    "    # Normalize the forces for better visualization\n",
    "    scale_factor = 0.2\n",
    "    x_forces = [force * scale_factor for force in x_forces]\n",
    "    y_forces = [force * scale_factor for force in y_forces]\n",
    "\n",
    "    # Create the plot with predefined limits\n",
    "    ax.cla()\n",
    "    ax.set_xlim(-0.5, 0.5)\n",
    "    ax.set_ylim(-0.5, 0.5)\n",
    "    ax.grid()\n",
    "    ax.set_xlabel('X Position')\n",
    "    ax.set_ylabel('Y Position')\n",
    "    ax.set_title('Thrust Directions and Magnitudes in X-Y Plane')\n",
    "\n",
    "    ax.quiver(x_positions, y_positions, x_forces, y_forces, angles='xy', scale_units='xy', scale=1, color='r')\n",
    "    ax.scatter(x_positions, y_positions, color='b')\n",
    "    fig.canvas.draw_idle()\n",
    "\n",
    "\n",
    "# Attach the function to the button\n",
    "allocate_button.on_click(allocate_forces)\n",
    "\n",
    "# Display the widgets\n",
    "display(F_x_slider, F_y_slider, M_z_slider, allocate_button)"
   ]
  }
 ],
 "metadata": {
  "kernelspec": {
   "display_name": "sandbox",
   "language": "python",
   "name": "python3"
  },
  "language_info": {
   "codemirror_mode": {
    "name": "ipython",
    "version": 3
   },
   "file_extension": ".py",
   "mimetype": "text/x-python",
   "name": "python",
   "nbconvert_exporter": "python",
   "pygments_lexer": "ipython3",
   "version": "3.11.5"
  }
 },
 "nbformat": 4,
 "nbformat_minor": 2
}
