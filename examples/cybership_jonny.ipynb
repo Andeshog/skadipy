{
 "cells": [
  {
   "cell_type": "markdown",
   "metadata": {},
   "source": [
    "# Control allocation example for Cybership Jonny "
   ]
  },
  {
   "cell_type": "markdown",
   "metadata": {},
   "source": [
    "For the sake of testing, set `PYTHONPATH` so notebook can be run without installing the package."
   ]
  },
  {
   "cell_type": "code",
   "execution_count": 1,
   "metadata": {},
   "outputs": [],
   "source": [
    "import sys\n",
    "sys.path.insert(0, \"../src\")"
   ]
  },
  {
   "cell_type": "markdown",
   "metadata": {},
   "source": [
    "First, import the control allocation packge"
   ]
  },
  {
   "cell_type": "code",
   "execution_count": 2,
   "metadata": {},
   "outputs": [],
   "source": [
    "import skadipy\n",
    "import numpy as np"
   ]
  },
  {
   "cell_type": "markdown",
   "metadata": {},
   "source": [
    "Now, we describe the thrusters. There are different options for thrusters. These are `Fixed`, `Aximuth`, `Vectored`.\n",
    "It is defined by the position of the thruster and the direction that its directed at.\n",
    "Orientation of the thruster is defined using quaternions.\n",
    "\n",
    "Depending on the allocator choice, `extra_attributes` dictionary changes.\n",
    "For Cybership Jonny, we use MinimumMagnitude and Azimuth Rate allocator. It takes `saturation_limit` and `rate_limit` values to set thrust limits for the thrusters."
   ]
  },
  {
   "cell_type": "code",
   "execution_count": 3,
   "metadata": {},
   "outputs": [],
   "source": [
    "tunnel = skadipy.actuator.Fixed(\n",
    "    position=skadipy.toolbox.Point([0.3875, 0.0, 0.0]),\n",
    "    orientation=skadipy.toolbox.Quaternion(\n",
    "        axis=(0.0, 0.0, 1.0), radians=np.pi / 2.0),\n",
    "    extra_attributes={\n",
    "        \"rate_limit\": 0.1,\n",
    "        \"saturation_limit\": 1.0,\n",
    "        \"name\": \"tunnel\",\n",
    "    }\n",
    ")\n",
    "port_azimuth = skadipy.actuator.Azimuth(\n",
    "    position=skadipy.toolbox.Point([-0.4574, -0.055, 0.0]),\n",
    "    extra_attributes={\n",
    "        \"rate_limit\": 0.1,\n",
    "        \"saturation_limit\": 1.0,\n",
    "        \"reference_angle\":  np.pi / 4.0,\n",
    "        \"name\": \"port_azimuth\",\n",
    "    }\n",
    ")\n",
    "starboard_azimuth = skadipy.actuator.Azimuth(\n",
    "    position=skadipy.toolbox.Point([-0.4547, 0.055, 0.0]),\n",
    "    extra_attributes={\n",
    "        \"rate_limit\": 0.1,\n",
    "        \"saturation_limit\": 1.0,\n",
    "        \"reference_angle\": - np.pi / 4.0,\n",
    "        \"name\": \"starboard_azimuth\",\n",
    "    }\n",
    ")\n",
    "\n",
    "# Put all actuators in a list and create the allocator object\n",
    "actuators = [\n",
    "    tunnel,\n",
    "    port_azimuth,\n",
    "    starboard_azimuth,\n",
    "]"
   ]
  },
  {
   "cell_type": "markdown",
   "metadata": {},
   "source": [
    "Now we need to describe what degrees of freedom we want to control.\n",
    "To specify that, we use `ForceTorqueComponent` class.\n",
    "Possible options are\n",
    "\n",
    "- `ForceTorqueCompontent.X` for surge\n",
    "- `ForceTorqueCompontent.Y` for sway\n",
    "- `ForceTorqueCompontent.Z` for heave\n",
    "- `ForceTorqueCompontent.K` for roll\n",
    "- `ForceTorqueCompontent.M` for pitch\n",
    "- `ForceTorqueCompontent.N` for yaw\n"
   ]
  },
  {
   "cell_type": "code",
   "execution_count": 4,
   "metadata": {},
   "outputs": [],
   "source": [
    "# List all the degrees of freedom that we want to control\n",
    "dofs = [\n",
    "    skadipy.allocator._base.ForceTorqueComponent.X,\n",
    "    skadipy.allocator._base.ForceTorqueComponent.Y,\n",
    "    skadipy.allocator._base.ForceTorqueComponent.N\n",
    "]"
   ]
  },
  {
   "cell_type": "markdown",
   "metadata": {},
   "source": [
    "Next, we create the allocator object using the thrusters and the degrees of freedom we want to control."
   ]
  },
  {
   "cell_type": "code",
   "execution_count": 5,
   "metadata": {},
   "outputs": [],
   "source": [
    "import skadipy.allocator.reference_filters\n",
    "\n",
    "# Create the allocator object\n",
    "allocator = skadipy.allocator.reference_filters.MinimumMagnitudeAndAzimuth(\n",
    "    actuators=actuators,\n",
    "    force_torque_components=dofs,\n",
    "    gamma=0.001,\n",
    "    mu=0.01,\n",
    "    rho=10,\n",
    "    time_step=0.01,\n",
    "    control_barrier_function=skadipy.safety.ControlBarrierFunctionType.ABSOLUTE\n",
    ")"
   ]
  },
  {
   "cell_type": "markdown",
   "metadata": {},
   "source": [
    "To allow change in vehicle configuration, allocation matrix can be updated using `update_allocation_matrix` method.\n",
    "\n",
    "Finally, we can use the allocator to allocate the forces and torques to the thrusters."
   ]
  },
  {
   "cell_type": "code",
   "execution_count": 6,
   "metadata": {},
   "outputs": [],
   "source": [
    "# Compute or update the configuration matrix\n",
    "allocator.compute_configuration_matrix()"
   ]
  },
  {
   "cell_type": "markdown",
   "metadata": {},
   "source": [
    "Regardless of the DOF we want to control, the allocator will always return forces and torques in the body frame.\n",
    "If we want to control the vehicle in the NED frame, we need to rotate the forces and torques to the NED frame.\n",
    "\n",
    "The $\\tau_{\\text{cmd}}$ **must** be in the form of\n",
    "\n",
    "$$\n",
    "\\tau_{\\text{cmd}} = \\begin{bmatrix} F_x & F_y & F_z & M_x & M_y & M_z \\end{bmatrix}\n",
    "$$\n",
    "\n",
    "where $F_x, F_y, F_z$ are the forces in the body frame and $M_x, M_y, M_z$ are the torques in the body frame."
   ]
  },
  {
   "cell_type": "code",
   "execution_count": 7,
   "metadata": {},
   "outputs": [
    {
     "name": "stdout",
     "output_type": "stream",
     "text": [
      "Allocated [[1.00166667e+00]\n",
      " [2.11758237e-20]\n",
      " [0.00000000e+00]\n",
      " [0.00000000e+00]\n",
      " [0.00000000e+00]\n",
      " [7.43993201e-18]]\n"
     ]
    }
   ],
   "source": [
    "tau_cmd = np.array(\n",
    "    [[1.0],\n",
    "     [0],\n",
    "     [0],\n",
    "     [0],\n",
    "     [0],\n",
    "     [0.0]], dtype=np.float32)\n",
    "\n",
    "# Allocate a control signal\n",
    "allocator.allocate(tau=tau_cmd)\n",
    "\n",
    "# Get the allocated force\n",
    "print(f\"Allocated {allocator.allocated}\")"
   ]
  },
  {
   "cell_type": "markdown",
   "metadata": {},
   "source": [
    "To get commanded forces to the thrusters, we can use the actuator objects."
   ]
  },
  {
   "cell_type": "code",
   "execution_count": 8,
   "metadata": {},
   "outputs": [
    {
     "name": "stdout",
     "output_type": "stream",
     "text": [
      "tunnel: [[-6.38889204e-08]]\n",
      "port_azimuth: [[5.00833979e-01]\n",
      " [6.38005511e-06]]\n",
      "starboard_azimuth: [[ 5.00832688e-01]\n",
      " [-6.31616619e-06]]\n"
     ]
    }
   ],
   "source": [
    "for actuator in actuators:\n",
    "    print(f\"{actuator.extra_attributes['name']}: {actuator.force}\")"
   ]
  }
 ],
 "metadata": {
  "kernelspec": {
   "display_name": "sandbox",
   "language": "python",
   "name": "python3"
  },
  "language_info": {
   "codemirror_mode": {
    "name": "ipython",
    "version": 3
   },
   "file_extension": ".py",
   "mimetype": "text/x-python",
   "name": "python",
   "nbconvert_exporter": "python",
   "pygments_lexer": "ipython3",
   "version": "3.11.2"
  }
 },
 "nbformat": 4,
 "nbformat_minor": 2
}
