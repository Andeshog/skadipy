{
 "cells": [
  {
   "cell_type": "markdown",
   "metadata": {},
   "source": [
    "# Control allocation example for MilliAmpere1\n",
    "\n",
    "## Quadratic Programming based Control Allocation"
   ]
  },
  {
   "cell_type": "markdown",
   "metadata": {},
   "source": [
    "For the sake of testing, set `PYTHONPATH` so notebook can be run without installing the package."
   ]
  },
  {
   "cell_type": "code",
   "execution_count": 1,
   "metadata": {},
   "outputs": [],
   "source": [
    "import sys\n",
    "sys.path.insert(0, \"../src\")"
   ]
  },
  {
   "cell_type": "markdown",
   "metadata": {},
   "source": [
    "First, import the control allocation packge"
   ]
  },
  {
   "cell_type": "code",
   "execution_count": 2,
   "metadata": {},
   "outputs": [],
   "source": [
    "import skadipy\n",
    "\n",
    "import numpy as np"
   ]
  },
  {
   "cell_type": "markdown",
   "metadata": {},
   "source": [
    "Now, we describe the thrusters. There are different options for thrusters. These are `Fixed`, `Aximuth`, `Vectored`.\n",
    "It is defined by the position of the thruster and the direction that its directed at.\n",
    "Orientation of the thruster is defined using quaternions.\n",
    "\n",
    "Depending on the allocator choice, `extra_attributes` dictionary changes.\n",
    "For milliAmpere1, we use Quadratic Programming allocator. It takes `limits` list to set thrust limits for the thrusters.\n",
    "\n",
    "X axis is forward, Y axis is starboard, Z axis is down.\n",
    "For simplicty we will assume that the ship is symmetric and that the thrusters are\n",
    "symmetrically placed. The azimuthing thrusters are also fixed in the vertical plane."
   ]
  },
  {
   "cell_type": "code",
   "execution_count": 3,
   "metadata": {},
   "outputs": [],
   "source": [
    "\n",
    "ma_bow_port = skadipy.actuator.Fixed(\n",
    "    position=skadipy.toolbox.Point([0.3, -0.1, 0.0]),\n",
    "    orientation=skadipy.toolbox.Quaternion(\n",
    "        axis=(0.0, 0.0, 1.0), angle=(3*np.pi / 4.0)),\n",
    "    extra_attributes={\n",
    "        \"limits\": [0.0, 1.0],\n",
    "        \"name\": \"bow_port\"\n",
    "    }\n",
    ")\n",
    "ma_bow_starboard = skadipy.actuator.Fixed(\n",
    "    position=skadipy.toolbox.Point([0.3, 0.1, 0.0]),\n",
    "    orientation=skadipy.toolbox.Quaternion(\n",
    "        axis=(0.0, 0.0, 1.0), angle=(-3*np.pi / 4.0)),\n",
    "    extra_attributes={\n",
    "        \"limits\": [0.0, 1.0],\n",
    "        \"name\": \"bow_starboard\"\n",
    "    }\n",
    ")\n",
    "ma_aft_port = skadipy.actuator.Fixed(\n",
    "    position=skadipy.toolbox.Point([-0.3, -0.1, 0.0]),\n",
    "    orientation=skadipy.toolbox.Quaternion(\n",
    "        axis=(0.0, 0.0, 1.0), angle=(np.pi / 4.0)),\n",
    "    extra_attributes={\n",
    "        \"limits\": [0.0, 1.0],\n",
    "        \"name\": \"aft_port\"\n",
    "    }\n",
    ")\n",
    "ma_aft_starboard = skadipy.actuator.Fixed(\n",
    "    position=skadipy.toolbox.Point([-0.3, 0.1, 0.0]),\n",
    "    orientation=skadipy.toolbox.Quaternion(\n",
    "        axis=(0.0, 0.0, 1.0), angle=(-np.pi / 4.0)),\n",
    "    extra_attributes={\n",
    "        \"limits\": [0.0, 1.0],\n",
    "        \"name\": \"aft_starboard\"\n",
    "    }\n",
    ")\n",
    "\n",
    "# Put all actuators in a list and create the allocator object\n",
    "actuators = [\n",
    "    ma_bow_port,\n",
    "    ma_bow_starboard,\n",
    "    ma_aft_port,\n",
    "    ma_aft_starboard\n",
    "\n",
    "]"
   ]
  },
  {
   "cell_type": "markdown",
   "metadata": {},
   "source": [
    "Now we need to describe what degrees of freedom we want to control.\n",
    "To specify that, we use `ForceTorqueComponent` class.\n",
    "Possible options are\n",
    "\n",
    "- `ForceTorqueCompontent.X` for surge\n",
    "- `ForceTorqueCompontent.Y` for sway\n",
    "- `ForceTorqueCompontent.Z` for heave\n",
    "- `ForceTorqueCompontent.K` for roll\n",
    "- `ForceTorqueCompontent.M` for pitch\n",
    "- `ForceTorqueCompontent.N` for yaw\n"
   ]
  },
  {
   "cell_type": "code",
   "execution_count": 4,
   "metadata": {},
   "outputs": [],
   "source": [
    "# List all the degrees of freedom that we want to control\n",
    "dofs = [\n",
    "    skadipy.allocator._base.ForceTorqueComponent.X,\n",
    "    skadipy.allocator._base.ForceTorqueComponent.Y,\n",
    "    skadipy.allocator._base.ForceTorqueComponent.N\n",
    "]"
   ]
  },
  {
   "cell_type": "markdown",
   "metadata": {},
   "source": [
    "Next, we create the allocator object using the thrusters and the degrees of freedom we want to control."
   ]
  },
  {
   "cell_type": "code",
   "execution_count": 5,
   "metadata": {},
   "outputs": [],
   "source": [
    "# Create the allocator object\n",
    "allocator = skadipy.allocator.QuadraticProgramming(\n",
    "    actuators=actuators,\n",
    "    force_torque_components=dofs\n",
    ")"
   ]
  },
  {
   "cell_type": "markdown",
   "metadata": {},
   "source": [
    "To allow change in vehicle configuration, allocation matrix can be updated using `update_allocation_matrix` method.\n",
    "\n",
    "Finally, we can use the allocator to allocate the forces and torques to the thrusters."
   ]
  },
  {
   "cell_type": "code",
   "execution_count": 6,
   "metadata": {},
   "outputs": [],
   "source": [
    "# Compute or update the configuration matrix\n",
    "allocator.compute_configuration_matrix()"
   ]
  },
  {
   "cell_type": "markdown",
   "metadata": {},
   "source": [
    "Regardless of the DOF we want to control, the allocator will always return forces and torques in the body frame.\n",
    "If we want to control the vehicle in the NED frame, we need to rotate the forces and torques to the NED frame.\n",
    "\n",
    "The $\\tau_{\\text{cmd}}$ **must** be in the form of\n",
    "\n",
    "$$\n",
    "\\tau_{\\text{cmd}} = \\begin{bmatrix} F_x & F_y & F_z & M_x & M_y & M_z \\end{bmatrix}\n",
    "$$\n",
    "\n",
    "where $F_x, F_y, F_z$ are the forces in the body frame and $M_x, M_y, M_z$ are the torques in the body frame."
   ]
  },
  {
   "cell_type": "code",
   "execution_count": 7,
   "metadata": {},
   "outputs": [
    {
     "name": "stdout",
     "output_type": "stream",
     "text": [
      "Allocated [ 0.82251267 -0.00700104  0.          0.          0.          0.11833995]\n"
     ]
    }
   ],
   "source": [
    "tau_cmd = np.array(\n",
    "    [[1],\n",
    "     [0],\n",
    "     [0],\n",
    "     [0],\n",
    "     [0],\n",
    "     [1]], dtype=np.float32)\n",
    "\n",
    "# Allocate a control signal\n",
    "allocator.allocate(tau=tau_cmd)\n",
    "\n",
    "# Get the allocated force\n",
    "print(f\"Allocated {allocator.allocated}\")"
   ]
  },
  {
   "cell_type": "markdown",
   "metadata": {},
   "source": [
    "To get commanded forces to the thrusters, we can use the actuator objects."
   ]
  },
  {
   "cell_type": "code",
   "execution_count": 8,
   "metadata": {},
   "outputs": [
    {
     "name": "stdout",
     "output_type": "stream",
     "text": [
      "bow_port: [0.41344483]\n",
      "bow_starboard: [4.07849815e-07]\n",
      "aft_port: [0.57665421]\n",
      "aft_starboard: [0.99999961]\n"
     ]
    }
   ],
   "source": [
    "for actuator in actuators:\n",
    "    print(f\"{actuator.extra_attributes['name']}: {actuator.force}\")"
   ]
  }
 ],
 "metadata": {
  "kernelspec": {
   "display_name": "sandbox",
   "language": "python",
   "name": "python3"
  },
  "language_info": {
   "codemirror_mode": {
    "name": "ipython",
    "version": 3
   },
   "file_extension": ".py",
   "mimetype": "text/x-python",
   "name": "python",
   "nbconvert_exporter": "python",
   "pygments_lexer": "ipython3",
   "version": "3.11.5"
  }
 },
 "nbformat": 4,
 "nbformat_minor": 2
}
