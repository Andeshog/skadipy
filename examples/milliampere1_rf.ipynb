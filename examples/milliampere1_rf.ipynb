{
 "cells": [
  {
   "cell_type": "markdown",
   "metadata": {},
   "source": [
    "# Control allocation example for MilliAmpere1\n",
    "\n",
    "## Reference filter based thrust allocation"
   ]
  },
  {
   "cell_type": "markdown",
   "metadata": {},
   "source": [
    "For the sake of testing, set `PYTHONPATH` so notebook can be run without installing the package."
   ]
  },
  {
   "cell_type": "code",
   "execution_count": 1,
   "metadata": {},
   "outputs": [],
   "source": [
    "import sys\n",
    "sys.path.insert(0, \"../src\")"
   ]
  },
  {
   "cell_type": "markdown",
   "metadata": {},
   "source": [
    "First, import the control allocation packge"
   ]
  },
  {
   "cell_type": "code",
   "execution_count": 2,
   "metadata": {},
   "outputs": [],
   "source": [
    "import skadipy\n",
    "import skadipy.allocator.reference_filters as skadirf\n",
    "import ipywidgets as widgets\n",
    "from IPython.display import display\n",
    "import numpy as np\n",
    "\n",
    "import matplotlib.pyplot as plt\n",
    "from matplotlib.widgets import Slider, Button\n",
    "\n",
    "# Use interactive backend\n",
    "%matplotlib qt5"
   ]
  },
  {
   "cell_type": "markdown",
   "metadata": {},
   "source": [
    "Now, we describe the thrusters. There are different options for thrusters. These are `Fixed`, `Aximuth`, `Vectored`.\n",
    "It is defined by the position of the thruster and the direction that its directed at.\n",
    "Orientation of the thruster is defined using quaternions.\n",
    "\n",
    "Depending on the allocator choice, `extra_attributes` dictionary changes.\n",
    "For milliAmpere1, we use Quadratic Programming allocator. It takes `limits` list to set thrust limits for the thrusters.\n",
    "\n",
    "X axis is forward, Y axis is starboard, Z axis is down.\n",
    "For simplicty we will assume that the ship is symmetric and that the thrusters are\n",
    "symmetrically placed. The azimuthing thrusters are also fixed in the vertical plane."
   ]
  },
  {
   "cell_type": "code",
   "execution_count": 3,
   "metadata": {},
   "outputs": [],
   "source": [
    "\n",
    "ma_bow_port = skadipy.actuator.Azimuth(\n",
    "    position=skadipy.toolbox.Point([0.3, -0.1, 0.0]),\n",
    "    orientation=skadipy.toolbox.Quaternion(\n",
    "        axis=(0.0, 0.0, 1.0), angle=(3*np.pi / 4.0)),\n",
    "    extra_attributes={\n",
    "        \"name\": \"bow_port\",\n",
    "        \"rate_limit\": 1.0,\n",
    "        \"saturation_limit\": 1.0,\n",
    "        \"reference_angle\": 0.0\n",
    "    }\n",
    ")\n",
    "ma_bow_starboard = skadipy.actuator.Azimuth(\n",
    "    position=skadipy.toolbox.Point([0.3, 0.1, 0.0]),\n",
    "    orientation=skadipy.toolbox.Quaternion(\n",
    "        axis=(0.0, 0.0, 1.0), angle=(-3*np.pi / 4.0)),\n",
    "    extra_attributes={\n",
    "        \"name\": \"bow_starboard\",\n",
    "        \"rate_limit\": 1.0,\n",
    "        \"saturation_limit\": 1.0,\n",
    "        \"reference_angle\": 0.0\n",
    "    }\n",
    ")\n",
    "ma_aft_port = skadipy.actuator.Azimuth(\n",
    "    position=skadipy.toolbox.Point([-0.3, -0.1, 0.0]),\n",
    "    orientation=skadipy.toolbox.Quaternion(\n",
    "        axis=(0.0, 0.0, 1.0), angle=(np.pi / 4.0)),\n",
    "    extra_attributes={\n",
    "        \"name\": \"aft_port\",\n",
    "        \"rate_limit\": 1.0,\n",
    "        \"saturation_limit\": 1.0,\n",
    "        \"reference_angle\": 0.0\n",
    "    }\n",
    ")\n",
    "ma_aft_starboard = skadipy.actuator.Azimuth(\n",
    "    position=skadipy.toolbox.Point([-0.3, 0.1, 0.0]),\n",
    "    orientation=skadipy.toolbox.Quaternion(\n",
    "        axis=(0.0, 0.0, 1.0), angle=(-np.pi / 4.0)),\n",
    "    extra_attributes={\n",
    "        \"name\": \"aft_starboard\",\n",
    "        \"rate_limit\": 1.0,\n",
    "        \"saturation_limit\": 1.0,\n",
    "        \"reference_angle\": 0.0\n",
    "    }\n",
    ")\n",
    "\n",
    "# Put all actuators in a list and create the allocator object\n",
    "actuators = [\n",
    "    ma_bow_port,\n",
    "    ma_bow_starboard,\n",
    "    ma_aft_port,\n",
    "    ma_aft_starboard\n",
    "\n",
    "]"
   ]
  },
  {
   "cell_type": "markdown",
   "metadata": {},
   "source": [
    "Now we need to describe what degrees of freedom we want to control.\n",
    "To specify that, we use `ForceTorqueComponent` class.\n",
    "Possible options are\n",
    "\n",
    "- `ForceTorqueCompontent.X` for surge\n",
    "- `ForceTorqueCompontent.Y` for sway\n",
    "- `ForceTorqueCompontent.Z` for heave\n",
    "- `ForceTorqueCompontent.K` for roll\n",
    "- `ForceTorqueCompontent.M` for pitch\n",
    "- `ForceTorqueCompontent.N` for yaw\n"
   ]
  },
  {
   "cell_type": "code",
   "execution_count": 4,
   "metadata": {},
   "outputs": [],
   "source": [
    "# List all the degrees of freedom that we want to control\n",
    "dofs = [\n",
    "    skadipy.allocator._base.ForceTorqueComponent.X,\n",
    "    skadipy.allocator._base.ForceTorqueComponent.Y,\n",
    "    skadipy.allocator._base.ForceTorqueComponent.N\n",
    "]"
   ]
  },
  {
   "cell_type": "markdown",
   "metadata": {},
   "source": [
    "Next, we create the allocator object using the thrusters and the degrees of freedom we want to control."
   ]
  },
  {
   "cell_type": "code",
   "execution_count": 5,
   "metadata": {},
   "outputs": [],
   "source": [
    "# Create the allocator object\n",
    "allocator = skadirf.MinimumMagnitudeAndAzimuth(\n",
    "    actuators=actuators,\n",
    "    force_torque_components=dofs,\n",
    "    gamma=0.5,\n",
    "    mu=1.5,\n",
    "    rho=1,\n",
    "    time_step=0.2,\n",
    "    control_barrier_function=skadipy.safety.ControlBarrierFunctionType.ABSOLUTE\n",
    ")"
   ]
  },
  {
   "cell_type": "markdown",
   "metadata": {},
   "source": [
    "To allow change in vehicle configuration, allocation matrix can be updated using `update_allocation_matrix` method.\n",
    "\n",
    "Finally, we can use the allocator to allocate the forces and torques to the thrusters."
   ]
  },
  {
   "cell_type": "code",
   "execution_count": 6,
   "metadata": {},
   "outputs": [],
   "source": [
    "# Compute or update the configuration matrix\n",
    "allocator.compute_configuration_matrix()"
   ]
  },
  {
   "cell_type": "markdown",
   "metadata": {},
   "source": [
    "Regardless of the DOF we want to control, the allocator will always return forces and torques in the body frame.\n",
    "If we want to control the vehicle in the NED frame, we need to rotate the forces and torques to the NED frame.\n",
    "\n",
    "The $\\tau_{\\text{cmd}}$ **must** be in the form of\n",
    "\n",
    "$$\n",
    "\\tau_{\\text{cmd}} = \\begin{bmatrix} F_x & F_y & F_z & M_x & M_y & M_z \\end{bmatrix}\n",
    "$$\n",
    "\n",
    "where $F_x, F_y, F_z$ are the forces in the body frame and $M_x, M_y, M_z$ are the torques in the body frame."
   ]
  },
  {
   "cell_type": "code",
   "execution_count": 7,
   "metadata": {},
   "outputs": [],
   "source": [
    "tau_cmd = np.zeros((6, 1))"
   ]
  },
  {
   "cell_type": "markdown",
   "metadata": {},
   "source": [
    "To get commanded forces to the thrusters, we can use the actuator objects."
   ]
  },
  {
   "cell_type": "code",
   "execution_count": 8,
   "metadata": {},
   "outputs": [
    {
     "data": {
      "text/plain": [
       "0"
      ]
     },
     "execution_count": 8,
     "metadata": {},
     "output_type": "execute_result"
    }
   ],
   "source": [
    "from matplotlib.widgets import Slider as mplSlider, Button as mplButton\n",
    "\n",
    "# Adjust the layout to include sliders and button in the figure\n",
    "plt.ion()\n",
    "fig, ax = plt.subplots(figsize=(10, 10))\n",
    "plt.subplots_adjust(bottom=0.25)\n",
    "# Create axes for sliders and button\n",
    "axcolor = 'lightgoldenrodyellow'\n",
    "\n",
    "ax_F_x = plt.axes([0.15, 0.15, 0.65, 0.03], facecolor=axcolor)\n",
    "ax_F_y = plt.axes([0.15, 0.10, 0.65, 0.03], facecolor=axcolor)\n",
    "ax_M_z = plt.axes([0.15, 0.05, 0.65, 0.03], facecolor=axcolor)\n",
    "ax_button = plt.axes([0.8, 0.0, 0.1, 0.04])\n",
    "\n",
    "\n",
    "# Create sliders and button\n",
    "slider_F_x = mplSlider(ax_F_x, 'F_x', -10.0, 10.0, valinit=1.0)\n",
    "slider_F_y = mplSlider(ax_F_y, 'F_y', -10.0, 10.0, valinit=0.0)\n",
    "slider_M_z = mplSlider(ax_M_z, 'M_z', -10.0, 10.0, valinit=0.0)\n",
    "button_allocate = mplButton(ax_button, 'Allocate')\n",
    "\n",
    "# Function to update tau_cmd and allocate forces\n",
    "def allocate_forces(event):\n",
    "    global tau_cmd\n",
    "    tau_cmd[0, 0] = slider_F_x.val\n",
    "    tau_cmd[1, 0] = slider_F_y.val\n",
    "    tau_cmd[5, 0] = slider_M_z.val\n",
    "    allocator.allocate(tau=tau_cmd)\n",
    "\n",
    "    positions = [actuator.position for actuator in actuators]\n",
    "    forces = [actuator.force for actuator in actuators]\n",
    "    # Extract X and Y components of positions and forces\n",
    "    x_positions = [pos.x for pos in positions]\n",
    "    y_positions = [pos.y for pos in positions]\n",
    "    x_forces = [force[0] for force in forces]\n",
    "    y_forces = [force[1] for force in forces]\n",
    "    # Normalize the forces for better visualization\n",
    "    scale_factor = 0.1\n",
    "    x_forces = [force * scale_factor for force in x_forces]\n",
    "    y_forces = [force * scale_factor for force in y_forces]\n",
    "\n",
    "    # Create the plot with predefined limits\n",
    "    ax.cla()\n",
    "    ax.set_xlim(-0.5, 0.5)\n",
    "    ax.set_ylim(-0.5, 0.5)\n",
    "    ax.grid()\n",
    "    ax.set_xlabel('X Position')\n",
    "    ax.set_ylabel('Y Position')\n",
    "    ax.set_title('Thrust Directions and Magnitudes in X-Y Plane')\n",
    "\n",
    "    ax.quiver(x_positions, y_positions, x_forces, y_forces, angles='xy', scale_units='xy', scale=1, color='r')\n",
    "    ax.scatter(x_positions, y_positions, color='b')\n",
    "    fig.canvas.draw_idle()\n",
    "\n",
    "# Attach the function to the button\n",
    "button_allocate.on_clicked(allocate_forces)"
   ]
  }
 ],
 "metadata": {
  "kernelspec": {
   "display_name": "mccontrolpy",
   "language": "python",
   "name": "python3"
  },
  "language_info": {
   "codemirror_mode": {
    "name": "ipython",
    "version": 3
   },
   "file_extension": ".py",
   "mimetype": "text/x-python",
   "name": "python",
   "nbconvert_exporter": "python",
   "pygments_lexer": "ipython3",
   "version": "3.11.5"
  }
 },
 "nbformat": 4,
 "nbformat_minor": 2
}
