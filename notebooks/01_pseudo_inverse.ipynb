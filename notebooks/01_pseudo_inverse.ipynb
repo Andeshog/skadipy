{
 "cells": [
  {
   "cell_type": "code",
   "execution_count": 1,
   "id": "c41b84e7",
   "metadata": {
    "ExecuteTime": {
     "end_time": "2024-03-24T17:19:01.502218Z",
     "start_time": "2024-03-24T17:19:01.194295Z"
    },
    "collapsed": false
   },
   "outputs": [],
   "source": [
    "%reset -f\n",
    "from pythonrc import *"
   ]
  },
  {
   "cell_type": "markdown",
   "id": "30be1a74",
   "metadata": {
    "papermill": {
     "duration": 0.000624,
     "end_time": "2024-02-27T17:54:22.180662",
     "exception": false,
     "start_time": "2024-02-27T17:54:22.180038",
     "status": "completed"
    },
    "tags": []
   },
   "source": [
    "# Simple test\n",
    "\n",
    "## Setup the environment and the configuration"
   ]
  },
  {
   "cell_type": "markdown",
   "id": "b66644f4",
   "metadata": {
    "papermill": {
     "duration": 0,
     "end_time": "2024-02-27T17:54:22.180662",
     "exception": false,
     "start_time": "2024-02-27T17:54:22.180662",
     "status": "completed"
    },
    "tags": []
   },
   "source": [
    "Load the allocator with Minimum Magnitude reference filter"
   ]
  },
  {
   "cell_type": "code",
   "execution_count": 2,
   "id": "aa83599d",
   "metadata": {
    "ExecuteTime": {
     "end_time": "2024-03-24T17:16:57.851280Z",
     "start_time": "2024-03-24T17:16:57.838914Z"
    },
    "execution": {
     "iopub.execute_input": "2024-02-27T17:54:22.184773Z",
     "iopub.status.busy": "2024-02-27T17:54:22.184773Z",
     "iopub.status.idle": "2024-02-27T17:54:22.191864Z",
     "shell.execute_reply": "2024-02-27T17:54:22.191864Z"
    },
    "papermill": {
     "duration": 0.007091,
     "end_time": "2024-02-27T17:54:22.191864",
     "exception": false,
     "start_time": "2024-02-27T17:54:22.184773",
     "status": "completed"
    },
    "tags": []
   },
   "outputs": [],
   "source": [
    "allocator = skadipy.allocator.PseudoInverse(\n",
    "    actuators=[\n",
    "        tunnel,\n",
    "        voithschneider_port,\n",
    "        voithschneider_starboard\n",
    "    ],\n",
    "    force_torque_components=[\n",
    "        skadipy.allocator.ForceTorqueComponent.X,\n",
    "        skadipy.allocator.ForceTorqueComponent.Y,\n",
    "        skadipy.allocator.ForceTorqueComponent.N\n",
    "    ]\n",
    ")\n",
    "\n",
    "allocator.compute_configuration_matrix()"
   ]
  },
  {
   "cell_type": "code",
   "execution_count": 3,
   "id": "898117af",
   "metadata": {
    "ExecuteTime": {
     "end_time": "2024-03-24T17:16:58.021975Z",
     "start_time": "2024-03-24T17:16:58.010068Z"
    },
    "execution": {
     "iopub.execute_input": "2024-02-27T17:54:22.191864Z",
     "iopub.status.busy": "2024-02-27T17:54:22.191864Z",
     "iopub.status.idle": "2024-02-27T17:54:22.200555Z",
     "shell.execute_reply": "2024-02-27T17:54:22.200555Z"
    },
    "papermill": {
     "duration": 0.008691,
     "end_time": "2024-02-27T17:54:22.200555",
     "exception": false,
     "start_time": "2024-02-27T17:54:22.191864",
     "status": "completed"
    },
    "tags": []
   },
   "outputs": [],
   "source": [
    "data = generate_spiral_dataset(\n",
    "    num_points=1000,\n",
    "    num_turns=5,\n",
    "    k=1\n",
    ")"
   ]
  },
  {
   "cell_type": "markdown",
   "id": "52b57f39",
   "metadata": {
    "papermill": {
     "duration": 0.005268,
     "end_time": "2024-02-27T17:54:22.205823",
     "exception": false,
     "start_time": "2024-02-27T17:54:22.200555",
     "status": "completed"
    },
    "tags": []
   },
   "source": [
    "We need to send vectors $\\tau = [X, Y, Z, K, M, N]^\\top$. Even if the number of\n",
    "controlled DOFs are different, we still need to send a vector with the same size.\n",
    "\n",
    "Say, we control $\\tau_{mode=1} = [X, Y, N]^\\top$, than we should simply send\n",
    "```python\n",
    ">>> X, Y, Z = 0, 0, 0\n",
    ">>> tau = np.array([X, Y, 0, 0, 0, N])\n",
    "```"
   ]
  },
  {
   "cell_type": "code",
   "execution_count": 4,
   "id": "5d4c86ba",
   "metadata": {
    "ExecuteTime": {
     "end_time": "2024-03-24T17:17:06.132005Z",
     "start_time": "2024-03-24T17:17:05.866408Z"
    },
    "execution": {
     "iopub.execute_input": "2024-02-27T17:54:22.210750Z",
     "iopub.status.busy": "2024-02-27T17:54:22.210114Z",
     "iopub.status.idle": "2024-02-27T17:54:22.430556Z",
     "shell.execute_reply": "2024-02-27T17:54:22.430556Z"
    },
    "papermill": {
     "duration": 0.224721,
     "end_time": "2024-02-27T17:54:22.431613",
     "exception": false,
     "start_time": "2024-02-27T17:54:22.206892",
     "status": "completed"
    },
    "tags": []
   },
   "outputs": [],
   "source": [
    "history_f = []\n",
    "\n",
    "for i in range(n := data.shape[0]):\n",
    "    X = data[i, 0]\n",
    "    Y = data[i, 1]\n",
    "    tau = np.array([[X, Y, 0, 0, 0, 0]], dtype=np.float32).T\n",
    "    xi = allocator.allocate(tau)\n",
    "\n",
    "    history_f.append(f := allocator.allocated)\n",
    "\n",
    "F = np.concatenate([i.T for i in history_f])\n"
   ]
  },
  {
   "cell_type": "code",
   "execution_count": 5,
   "id": "addf27ea",
   "metadata": {
    "ExecuteTime": {
     "end_time": "2023-12-12T11:53:45.166463Z",
     "start_time": "2023-12-12T11:53:45.033406200Z"
    },
    "execution": {
     "iopub.execute_input": "2024-02-27T17:54:22.437074Z",
     "iopub.status.busy": "2024-02-27T17:54:22.437074Z",
     "iopub.status.idle": "2024-02-27T17:54:23.035773Z",
     "shell.execute_reply": "2024-02-27T17:54:23.035773Z"
    },
    "papermill": {
     "duration": 0.601146,
     "end_time": "2024-02-27T17:54:23.035773",
     "exception": false,
     "start_time": "2024-02-27T17:54:22.434627",
     "status": "completed"
    },
    "tags": []
   },
   "outputs": [
    {
     "data": {
      "text/plain": [
       "Text(0, 0.5, 'Y')"
      ]
     },
     "execution_count": 5,
     "metadata": {},
     "output_type": "execute_result"
    },
    {
     "data": {
      "image/png": "[encoded data removed]",
      "text/plain": [
       "<Figure size 640x480 with 1 Axes>"
      ]
     },
     "metadata": {},
     "output_type": "display_data"
    }
   ],
   "source": [
    "plt.scatter(data[:, 0], data[:, 1], s=4)\n",
    "plt.scatter(F[:, 0], F[:, 1], s=1)\n",
    "plt.title(\"Input forces\")\n",
    "plt.xlabel(\"X\")\n",
    "plt.ylabel(\"Y\")"
   ]
  }
 ],
 "metadata": {
  "kernelspec": {
   "display_name": "Python 3 (ipykernel)",
   "language": "python",
   "name": "python3"
  },
  "language_info": {
   "codemirror_mode": {
    "name": "ipython",
    "version": 3
   },
   "file_extension": ".py",
   "mimetype": "text/x-python",
   "name": "python",
   "nbconvert_exporter": "python",
   "pygments_lexer": "ipython3",
   "version": "3.11.5"
  },
  "papermill": {
   "default_parameters": {},
   "duration": 6.668272,
   "end_time": "2024-02-27T17:54:25.800268",
   "environment_variables": {},
   "exception": null,
   "input_path": "01_pseudo_inverse.ipynb",
   "output_path": "01_pseudo_inverse.ipynb",
   "parameters": {},
   "start_time": "2024-02-27T17:54:19.131996",
   "version": "2.4.0"
  }
 },
 "nbformat": 4,
 "nbformat_minor": 5
}
