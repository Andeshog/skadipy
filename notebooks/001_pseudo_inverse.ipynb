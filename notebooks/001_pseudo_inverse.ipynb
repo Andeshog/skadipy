{
 "cells": [
  {
   "cell_type": "markdown",
   "id": "c22c80c2",
   "metadata": {
    "tags": [
     "papermill-error-cell-tag"
    ]
   },
   "source": [
    "<span style=\"color:red; font-family:Helvetica Neue, Helvetica, Arial, sans-serif; font-size:2em;\">An Exception was encountered at '<a href=\"#papermill-error-cell\">In [1]</a>'.</span>"
   ]
  },
  {
   "cell_type": "markdown",
   "id": "f4559c58",
   "metadata": {
    "tags": [
     "papermill-error-cell-tag"
    ]
   },
   "source": [
    "<span id=\"papermill-error-cell\" style=\"color:red; font-family:Helvetica Neue, Helvetica, Arial, sans-serif; font-size:2em;\">Execution using papermill encountered an exception here and stopped:</span>"
   ]
  },
  {
   "cell_type": "code",
   "execution_count": 1,
   "id": "c41b84e7",
   "metadata": {
    "ExecuteTime": {
     "end_time": "2024-03-24T17:19:01.502218Z",
     "start_time": "2024-03-24T17:19:01.194295Z"
    },
    "collapsed": false,
    "execution": {
     "iopub.execute_input": "2025-02-03T10:20:53.524042Z",
     "iopub.status.busy": "2025-02-03T10:20:53.524042Z",
     "iopub.status.idle": "2025-02-03T10:20:54.951756Z",
     "shell.execute_reply": "2025-02-03T10:20:54.951756Z"
    },
    "papermill": {
     "duration": 1.433609,
     "end_time": "2025-02-03T10:20:54.953786",
     "exception": true,
     "start_time": "2025-02-03T10:20:53.520177",
     "status": "failed"
    },
    "tags": []
   },
   "outputs": [
    {
     "ename": "ModuleNotFoundError",
     "evalue": "No module named 'pyquaternion'",
     "output_type": "error",
     "traceback": [
      "\u001b[1;31m---------------------------------------------------------------------------\u001b[0m",
      "\u001b[1;31mModuleNotFoundError\u001b[0m                       Traceback (most recent call last)",
      "Cell \u001b[1;32mIn[1], line 2\u001b[0m\n\u001b[0;32m      1\u001b[0m get_ipython()\u001b[38;5;241m.\u001b[39mrun_line_magic(\u001b[38;5;124m'\u001b[39m\u001b[38;5;124mreset\u001b[39m\u001b[38;5;124m'\u001b[39m, \u001b[38;5;124m'\u001b[39m\u001b[38;5;124m-f\u001b[39m\u001b[38;5;124m'\u001b[39m)\n\u001b[1;32m----> 2\u001b[0m \u001b[38;5;28;01mfrom\u001b[39;00m \u001b[38;5;21;01mpythonrc\u001b[39;00m \u001b[38;5;28;01mimport\u001b[39;00m \u001b[38;5;241m*\u001b[39m\n",
      "File \u001b[1;32m~\\OneDrive - NTNU\\Projects\\mccontrolpy\\notebooks\\pythonrc.py:10\u001b[0m\n\u001b[0;32m      7\u001b[0m \u001b[38;5;28;01mfrom\u001b[39;00m \u001b[38;5;21;01mdataclasses\u001b[39;00m \u001b[38;5;28;01mimport\u001b[39;00m dataclass\n\u001b[0;32m      9\u001b[0m sys\u001b[38;5;241m.\u001b[39mpath\u001b[38;5;241m.\u001b[39minsert(\u001b[38;5;241m0\u001b[39m, \u001b[38;5;124m\"\u001b[39m\u001b[38;5;124m../src\u001b[39m\u001b[38;5;124m\"\u001b[39m)\n\u001b[1;32m---> 10\u001b[0m \u001b[38;5;28;01mimport\u001b[39;00m \u001b[38;5;21;01mskadipy\u001b[39;00m\u001b[38;5;21;01m.\u001b[39;00m\u001b[38;5;21;01msafety\u001b[39;00m\n\u001b[0;32m     11\u001b[0m \u001b[38;5;28;01mimport\u001b[39;00m \u001b[38;5;21;01mskadipy\u001b[39;00m\u001b[38;5;21;01m.\u001b[39;00m\u001b[38;5;21;01mtoolbox\u001b[39;00m\n\u001b[0;32m     12\u001b[0m \u001b[38;5;28;01mimport\u001b[39;00m \u001b[38;5;21;01mskadipy\u001b[39;00m\u001b[38;5;21;01m.\u001b[39;00m\u001b[38;5;21;01mallocator\u001b[39;00m\n",
      "File \u001b[1;32m~\\OneDrive - NTNU\\Projects\\mccontrolpy\\notebooks\\../src\\skadipy\\__init__.py:10\u001b[0m\n\u001b[0;32m      7\u001b[0m \u001b[38;5;28;01mexcept\u001b[39;00m \u001b[38;5;167;01mImportError\u001b[39;00m:\n\u001b[0;32m      8\u001b[0m     __version__ \u001b[38;5;241m=\u001b[39m \u001b[38;5;124m\"\u001b[39m\u001b[38;5;124m0.0.0\u001b[39m\u001b[38;5;124m\"\u001b[39m\n\u001b[1;32m---> 10\u001b[0m \u001b[38;5;28;01mfrom\u001b[39;00m \u001b[38;5;21;01m.\u001b[39;00m \u001b[38;5;28;01mimport\u001b[39;00m safety, allocator, actuator, toolbox, allocator\n",
      "File \u001b[1;32m~\\OneDrive - NTNU\\Projects\\mccontrolpy\\notebooks\\../src\\skadipy\\safety\\__init__.py:17\u001b[0m\n\u001b[0;32m      1\u001b[0m \u001b[38;5;66;03m# This file is part of skadipy.\u001b[39;00m\n\u001b[0;32m      2\u001b[0m \u001b[38;5;66;03m#\u001b[39;00m\n\u001b[0;32m      3\u001b[0m \u001b[38;5;66;03m# skadi is free software: you can redistribute it and/or modify it under\u001b[39;00m\n\u001b[1;32m   (...)\u001b[0m\n\u001b[0;32m     14\u001b[0m \u001b[38;5;66;03m#\u001b[39;00m\n\u001b[0;32m     15\u001b[0m \u001b[38;5;66;03m# Copyright (C) 2024 Emir Cem Gezer, NTNU\u001b[39;00m\n\u001b[1;32m---> 17\u001b[0m \u001b[38;5;28;01mfrom\u001b[39;00m \u001b[38;5;21;01m.\u001b[39;00m\u001b[38;5;21;01m_cbf\u001b[39;00m \u001b[38;5;28;01mimport\u001b[39;00m ControlBarrierFunctionType, sumsquare, absolute, quadratic\n",
      "File \u001b[1;32m~\\OneDrive - NTNU\\Projects\\mccontrolpy\\notebooks\\../src\\skadipy\\safety\\_cbf.py:21\u001b[0m\n\u001b[0;32m     17\u001b[0m \u001b[38;5;28;01mfrom\u001b[39;00m \u001b[38;5;21;01menum\u001b[39;00m \u001b[38;5;28;01mimport\u001b[39;00m Enum\n\u001b[0;32m     19\u001b[0m \u001b[38;5;28;01mimport\u001b[39;00m \u001b[38;5;21;01mnumpy\u001b[39;00m \u001b[38;5;28;01mas\u001b[39;00m \u001b[38;5;21;01mnp\u001b[39;00m\n\u001b[1;32m---> 21\u001b[0m \u001b[38;5;28;01mfrom\u001b[39;00m \u001b[38;5;21;01m.\u001b[39;00m\u001b[38;5;21;01m.\u001b[39;00m \u001b[38;5;28;01mimport\u001b[39;00m actuator \u001b[38;5;28;01mas\u001b[39;00m act\n\u001b[0;32m     23\u001b[0m \u001b[38;5;28;01mclass\u001b[39;00m \u001b[38;5;21;01mControlBarrierFunctionType\u001b[39;00m(Enum):\n\u001b[0;32m     24\u001b[0m     SUMSQUARE \u001b[38;5;241m=\u001b[39m \u001b[38;5;241m0\u001b[39m\n",
      "File \u001b[1;32m~\\OneDrive - NTNU\\Projects\\mccontrolpy\\notebooks\\../src\\skadipy\\actuator\\__init__.py:17\u001b[0m\n\u001b[0;32m      1\u001b[0m \u001b[38;5;66;03m# This file is part of skadipy.\u001b[39;00m\n\u001b[0;32m      2\u001b[0m \u001b[38;5;66;03m#\u001b[39;00m\n\u001b[0;32m      3\u001b[0m \u001b[38;5;66;03m# skadi is free software: you can redistribute it and/or modify it under\u001b[39;00m\n\u001b[1;32m   (...)\u001b[0m\n\u001b[0;32m     14\u001b[0m \u001b[38;5;66;03m#\u001b[39;00m\n\u001b[0;32m     15\u001b[0m \u001b[38;5;66;03m# Copyright (C) 2024 Emir Cem Gezer, NTNU\u001b[39;00m\n\u001b[1;32m---> 17\u001b[0m \u001b[38;5;28;01mfrom\u001b[39;00m \u001b[38;5;21;01m.\u001b[39;00m\u001b[38;5;21;01m_base\u001b[39;00m \u001b[38;5;28;01mimport\u001b[39;00m ActuatorBase\n\u001b[0;32m     18\u001b[0m \u001b[38;5;28;01mfrom\u001b[39;00m \u001b[38;5;21;01m.\u001b[39;00m\u001b[38;5;21;01m_fixed\u001b[39;00m \u001b[38;5;28;01mimport\u001b[39;00m Fixed\n\u001b[0;32m     19\u001b[0m \u001b[38;5;28;01mfrom\u001b[39;00m \u001b[38;5;21;01m.\u001b[39;00m\u001b[38;5;21;01m_azimuth\u001b[39;00m \u001b[38;5;28;01mimport\u001b[39;00m Azimuth\n",
      "File \u001b[1;32m~\\OneDrive - NTNU\\Projects\\mccontrolpy\\notebooks\\../src\\skadipy\\actuator\\_base.py:21\u001b[0m\n\u001b[0;32m     18\u001b[0m \u001b[38;5;28;01mfrom\u001b[39;00m \u001b[38;5;21;01mabc\u001b[39;00m \u001b[38;5;28;01mimport\u001b[39;00m ABC, abstractmethod\n\u001b[0;32m     20\u001b[0m \u001b[38;5;28;01mimport\u001b[39;00m \u001b[38;5;21;01mnumpy\u001b[39;00m \u001b[38;5;28;01mas\u001b[39;00m \u001b[38;5;21;01mnp\u001b[39;00m\n\u001b[1;32m---> 21\u001b[0m \u001b[38;5;28;01mimport\u001b[39;00m \u001b[38;5;21;01mpyquaternion\u001b[39;00m \u001b[38;5;28;01mas\u001b[39;00m \u001b[38;5;21;01mquat\u001b[39;00m\n\u001b[0;32m     22\u001b[0m \u001b[38;5;28;01mfrom\u001b[39;00m \u001b[38;5;21;01mshapely\u001b[39;00m \u001b[38;5;28;01mimport\u001b[39;00m geometry\n\u001b[0;32m     24\u001b[0m \u001b[38;5;28;01mfrom\u001b[39;00m \u001b[38;5;21;01m.\u001b[39;00m\u001b[38;5;21;01m_type\u001b[39;00m \u001b[38;5;28;01mimport\u001b[39;00m ConfigurationType\n",
      "\u001b[1;31mModuleNotFoundError\u001b[0m: No module named 'pyquaternion'"
     ]
    }
   ],
   "source": [
    "%reset -f\n",
    "from pythonrc import *"
   ]
  },
  {
   "cell_type": "markdown",
   "id": "30be1a74",
   "metadata": {
    "papermill": {
     "duration": null,
     "end_time": null,
     "exception": null,
     "start_time": null,
     "status": "pending"
    },
    "tags": []
   },
   "source": [
    "# Simple test\n",
    "\n",
    "## Setup the environment and the configuration"
   ]
  },
  {
   "cell_type": "markdown",
   "id": "b66644f4",
   "metadata": {
    "papermill": {
     "duration": null,
     "end_time": null,
     "exception": null,
     "start_time": null,
     "status": "pending"
    },
    "tags": []
   },
   "source": [
    "Load the allocator with Minimum Magnitude reference filter"
   ]
  },
  {
   "cell_type": "code",
   "execution_count": null,
   "id": "aa83599d",
   "metadata": {
    "ExecuteTime": {
     "end_time": "2024-03-24T17:16:57.851280Z",
     "start_time": "2024-03-24T17:16:57.838914Z"
    },
    "execution": {
     "iopub.execute_input": "2024-07-01T15:01:34.810664Z",
     "iopub.status.busy": "2024-07-01T15:01:34.809162Z",
     "iopub.status.idle": "2024-07-01T15:01:34.821187Z",
     "shell.execute_reply": "2024-07-01T15:01:34.819668Z"
    },
    "papermill": {
     "duration": null,
     "end_time": null,
     "exception": null,
     "start_time": null,
     "status": "pending"
    },
    "tags": []
   },
   "outputs": [],
   "source": [
    "allocator = skadipy.allocator.PseudoInverse(\n",
    "    actuators=[\n",
    "        tunnel,\n",
    "        voithschneider_port,\n",
    "        voithschneider_starboard\n",
    "    ],\n",
    "    force_torque_components=[\n",
    "        skadipy.allocator.ForceTorqueComponent.X,\n",
    "        skadipy.allocator.ForceTorqueComponent.Y,\n",
    "        skadipy.allocator.ForceTorqueComponent.N\n",
    "    ]\n",
    ")\n",
    "\n",
    "allocator.compute_configuration_matrix()"
   ]
  },
  {
   "cell_type": "code",
   "execution_count": null,
   "id": "898117af",
   "metadata": {
    "ExecuteTime": {
     "end_time": "2024-03-24T17:16:58.021975Z",
     "start_time": "2024-03-24T17:16:58.010068Z"
    },
    "execution": {
     "iopub.execute_input": "2024-07-01T15:01:34.837202Z",
     "iopub.status.busy": "2024-07-01T15:01:34.836202Z",
     "iopub.status.idle": "2024-07-01T15:01:34.851822Z",
     "shell.execute_reply": "2024-07-01T15:01:34.850302Z"
    },
    "papermill": {
     "duration": null,
     "end_time": null,
     "exception": null,
     "start_time": null,
     "status": "pending"
    },
    "tags": []
   },
   "outputs": [],
   "source": [
    "data = generate_spiral_dataset(\n",
    "    num_points=1000,\n",
    "    num_turns=5,\n",
    "    k=1\n",
    ")"
   ]
  },
  {
   "cell_type": "markdown",
   "id": "52b57f39",
   "metadata": {
    "papermill": {
     "duration": null,
     "end_time": null,
     "exception": null,
     "start_time": null,
     "status": "pending"
    },
    "tags": []
   },
   "source": [
    "We need to send vectors $\\tau = [X, Y, Z, K, M, N]^\\top$. Even if the number of\n",
    "controlled DOFs are different, we still need to send a vector with the same size.\n",
    "\n",
    "Say, we control $\\tau_{mode=1} = [X, Y, N]^\\top$, than we should simply send\n",
    "```python\n",
    ">>> X, Y, Z = 0, 0, 0\n",
    ">>> tau = np.array([X, Y, 0, 0, 0, N])\n",
    "```"
   ]
  },
  {
   "cell_type": "code",
   "execution_count": null,
   "id": "5d4c86ba",
   "metadata": {
    "ExecuteTime": {
     "end_time": "2024-03-24T17:17:06.132005Z",
     "start_time": "2024-03-24T17:17:05.866408Z"
    },
    "execution": {
     "iopub.execute_input": "2024-07-01T15:01:34.872364Z",
     "iopub.status.busy": "2024-07-01T15:01:34.871392Z",
     "iopub.status.idle": "2024-07-01T15:01:35.143618Z",
     "shell.execute_reply": "2024-07-01T15:01:35.142612Z"
    },
    "papermill": {
     "duration": null,
     "end_time": null,
     "exception": null,
     "start_time": null,
     "status": "pending"
    },
    "tags": []
   },
   "outputs": [],
   "source": [
    "history_f = []\n",
    "\n",
    "for i in range(n := data.shape[0]):\n",
    "    X = data[i, 0]\n",
    "    Y = data[i, 1]\n",
    "    tau = np.array([[X, Y, 0, 0, 0, 0]], dtype=np.float32).T\n",
    "    xi = allocator.allocate(tau)\n",
    "\n",
    "    history_f.append(f := allocator.allocated)\n",
    "\n",
    "F = np.concatenate([i.T for i in history_f])\n"
   ]
  },
  {
   "cell_type": "code",
   "execution_count": null,
   "id": "addf27ea",
   "metadata": {
    "ExecuteTime": {
     "end_time": "2023-12-12T11:53:45.166463Z",
     "start_time": "2023-12-12T11:53:45.033406200Z"
    },
    "execution": {
     "iopub.execute_input": "2024-07-01T15:01:35.152637Z",
     "iopub.status.busy": "2024-07-01T15:01:35.152637Z",
     "iopub.status.idle": "2024-07-01T15:01:36.342116Z",
     "shell.execute_reply": "2024-07-01T15:01:36.340114Z"
    },
    "papermill": {
     "duration": null,
     "end_time": null,
     "exception": null,
     "start_time": null,
     "status": "pending"
    },
    "tags": []
   },
   "outputs": [],
   "source": [
    "plt.scatter(data[:, 0], data[:, 1], s=4)\n",
    "plt.scatter(F[:, 0], F[:, 1], s=1)\n",
    "plt.title(\"Input forces\")\n",
    "plt.xlabel(\"X\")\n",
    "plt.ylabel(\"Y\")"
   ]
  }
 ],
 "metadata": {
  "kernelspec": {
   "display_name": "mccontrolpy",
   "language": "python",
   "name": "python3"
  },
  "language_info": {
   "codemirror_mode": {
    "name": "ipython",
    "version": 3
   },
   "file_extension": ".py",
   "mimetype": "text/x-python",
   "name": "python",
   "nbconvert_exporter": "python",
   "pygments_lexer": "ipython3",
   "version": "3.12.8"
  },
  "papermill": {
   "default_parameters": {},
   "duration": 6.783077,
   "end_time": "2025-02-03T10:20:58.086681",
   "environment_variables": {},
   "exception": true,
   "input_path": "001_pseudo_inverse.ipynb",
   "output_path": "001_pseudo_inverse.ipynb",
   "parameters": {},
   "start_time": "2025-02-03T10:20:51.303604",
   "version": "2.4.0"
  }
 },
 "nbformat": 4,
 "nbformat_minor": 5
}