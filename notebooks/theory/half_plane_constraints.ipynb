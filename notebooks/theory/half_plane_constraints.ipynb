{
 "cells": [
  {
   "cell_type": "markdown",
   "metadata": {},
   "source": [
    "# Using CBFs for forbidden zones"
   ]
  },
  {
   "cell_type": "markdown",
   "metadata": {},
   "source": [
    "To deal with the forbidden zones we can utilize a CBF with half plane constraints\n",
    "and solve it with quadratic programming.\n",
    "\n",
    "$$\n",
    "\\begin{aligned}\n",
    "U_1 &= \\{a_1^\\top u + b_1 \\leq 0\\} \\\\\n",
    "U_2 &= \\{a_2^\\top u + b_2 \\leq 0\\} \\\\\n",
    "U_b &= U_{b,1} \\cap U_{b,2}\n",
    "\\end{aligned}\n",
    "$$\n",
    "\n",
    "Which can than be formulated into\n",
    "\n",
    "$$\n",
    "\\begin{aligned}\n",
    "\\min_{\\substack{u \\\\\\kappa_i \\in U_{b,i}}} & \\quad u^\\top H u + p \\delta \\\\\n",
    "\\text{s.t.} & \\quad I u = \\kappa \\\\\n",
    "            & \\quad u_\\text{min} \\leq u \\leq u_\\text{max}\n",
    "\\end{aligned}\n",
    "$$"
   ]
  },
  {
   "cell_type": "code",
   "execution_count": 1,
   "metadata": {},
   "outputs": [],
   "source": [
    "import numpy as np\n",
    "import scipy as sp\n",
    "import qpsolvers as qp\n",
    "import matplotlib.pyplot as plt\n",
    "import pandas as pd\n",
    "from ipywidgets import interact, FloatSlider, FloatText"
   ]
  },
  {
   "cell_type": "markdown",
   "metadata": {},
   "source": [
    "$$\n",
    "\\begin{aligned}\n",
    "\\min_x & \\quad \\frac{1}{2} x^\\top P x + q^\\top x \\\\\n",
    "\\text{s.t.} & \\quad G x \\leq h \\\\\n",
    "            & \\quad A x = b \\\\\n",
    "            & \\quad x_\\text{min} \\leq x \\leq x_\\text{max}\n",
    "\\end{aligned}\n",
    "$$\n",
    "\n"
   ]
  },
  {
   "cell_type": "code",
   "execution_count": 2,
   "metadata": {},
   "outputs": [],
   "source": [
    "def solve_qp(x1_d, x2_d):\n",
    "    kargs = {}\n",
    "    # Define the 2-Dimentional QP Problem with 2 slack variables\n",
    "    kargs['P'] = np.array(\n",
    "        [\n",
    "            [1, 0, 0, 0],\n",
    "            [0, 1, 0, 0],\n",
    "            [0, 0, 1e5, 0],\n",
    "            [0, 0, 0, 1e5]\n",
    "        ], dtype=np.float32)\n",
    "    kargs['q'] = np.array([x1_d, x2_d, 0, 0], dtype=np.float32)\n",
    "\n",
    "    kargs['A'] = np.array(\n",
    "        [\n",
    "            [1, 0, 1, 0],\n",
    "            [0, 1, 0, 1],\n",
    "        ], dtype=np.float32)\n",
    "    kargs['b'] = np.array([x1_d, x2_d], dtype=np.float32)\n",
    "\n",
    "    n = 3\n",
    "    a1 = np.arctan2(x2_d, x1_d)\n",
    "    alpha = np.linspace(a1 - np.pi / 2, a1 + np.pi / 2, n)\n",
    "    G = np.concatenate((\n",
    "            np.reshape(np.cos(alpha), (np.shape(alpha)[0], 1)),\n",
    "            np.reshape(np.sin(alpha), (np.shape(alpha)[0], 1)),\n",
    "            np.zeros((n, 2))\n",
    "        ), axis=1)\n",
    "    G = G[np.where(~np.any(np.isinf(G), axis=1))[0]]\n",
    "    G = G[np.where(~np.any(np.abs(G) > 1e3, axis=1))[0]]\n",
    "    kargs['G'] = np.array(G, dtype=np.float32)\n",
    "\n",
    "    h = np.ones(np.shape(G)[0])\n",
    "    kargs['h'] = np.array(h, dtype=np.float32)\n",
    "\n",
    "    kargs['ub'] = np.array([np.inf, np.inf,  np.inf, np.inf], dtype=np.float32)\n",
    "    kargs['lb'] = np.array([-np.inf, -np.inf, -np.inf, -np.inf], dtype=np.float32)\n",
    "    problem = qp.Problem(**kargs)\n",
    "    solution = qp.solve_problem(problem, solver='osqp', verbose=False)\n",
    "    print(f\"Solution {solution.x} \\n norm(x1 + x2): {np.linalg.norm((solution.x[0], solution.x[1]))}\")\n",
    "\n",
    "    # Plot the solution\n",
    "    a = np.linspace(0, 2*np.pi, 100)\n",
    "    plt.plot(np.cos(a), np.sin(a), 'r')\n",
    "    plt.scatter(x=[x1_d], y=[x2_d], c='b', s=100, marker='x')\n",
    "    plt.plot(solution.x[0], solution.x[1], 'bo')\n",
    "    plt.axis('equal')\n",
    "    plt.grid(True)\n",
    "    plt.xlabel('x1')\n",
    "    plt.ylabel('x2')\n",
    "    plt.xlim(-2.0, 2.0)\n",
    "    plt.ylim(-2.0, 2.0)\n",
    "    plt.show()"
   ]
  },
  {
   "cell_type": "code",
   "execution_count": 3,
   "metadata": {},
   "outputs": [
    {
     "data": {
      "application/vnd.jupyter.widget-view+json": {
       "model_id": "570d89e6acc64e8cb964a8ccd1be5c32",
       "version_major": 2,
       "version_minor": 0
      },
      "text/plain": [
       "interactive(children=(FloatSlider(value=-0.4, description='x0_(1)):', max=3.0, min=-3.0), FloatSlider(value=1.…"
      ]
     },
     "metadata": {},
     "output_type": "display_data"
    },
    {
     "data": {
      "text/plain": [
       "<function __main__.solve_qp(x1_d, x2_d)>"
      ]
     },
     "execution_count": 3,
     "metadata": {},
     "output_type": "execute_result"
    }
   ],
   "source": [
    "x1_d_input = FloatSlider(value=-0.4, min=-3, max=3, description='x0_(1)):')\n",
    "x2_d_input = FloatSlider(value=1.2, min=-3, max=3, description='x0_(2):')\n",
    "\n",
    "# Create the interactive plot\n",
    "interact(solve_qp, x1_d=x1_d_input, x2_d=x2_d_input)"
   ]
  },
  {
   "cell_type": "code",
   "execution_count": 4,
   "metadata": {},
   "outputs": [
    {
     "data": {
      "application/vnd.jupyter.widget-view+json": {
       "model_id": "ca8e62f334f8401093c1c3e7853db619",
       "version_major": 2,
       "version_minor": 0
      },
      "text/plain": [
       "interactive(children=(FloatSlider(value=2.5132741228718345, description='a1:', max=6.283185307179586, min=-6.2…"
      ]
     },
     "metadata": {},
     "output_type": "display_data"
    },
    {
     "data": {
      "text/plain": [
       "<function __main__.update_plot(a1, x0_x, x0_y)>"
      ]
     },
     "execution_count": 4,
     "metadata": {},
     "output_type": "execute_result"
    }
   ],
   "source": [
    "import numpy as np\n",
    "import matplotlib.pyplot as plt\n",
    "from ipywidgets import interact, FloatSlider, FloatText\n",
    "\n",
    "# Define the function to update the plot\n",
    "def update_plot(a1, x0_x, x0_y):\n",
    "    # Create an array of values from 0 to 2*pi\n",
    "    a = np.linspace(0, 2*np.pi, 100)\n",
    "\n",
    "    # Plot a circle with radius 1\n",
    "    plt.plot(np.cos(a), np.sin(a), 'k', linewidth=3)\n",
    "\n",
    "    # Define the coefficients of the linear equation\n",
    "    A = np.array([[np.cos(a1), np.sin(a1)]])\n",
    "    b = np.array([1])\n",
    "    x = np.linalg.lstsq(A, b, rcond=None)[0]\n",
    "\n",
    "    # Create a range of x values\n",
    "    x_values = np.linspace(-3, 3, 100)\n",
    "\n",
    "    # Define the point\n",
    "    x0 = np.array([x0_x, x0_y])\n",
    "\n",
    "    # Check if the point is below or above the line\n",
    "    if np.dot(A, x0) < 1:\n",
    "        plt.scatter(x0[0], x0[1], color='green', label='Below line')\n",
    "    else:\n",
    "        plt.scatter(x0[0], x0[1], color='red', label='Above line')\n",
    "\n",
    "    # Solve for y values\n",
    "    y1 = (b[0] - A[0,0]*x_values) / A[0,1]\n",
    "\n",
    "    # Plot the line\n",
    "    plt.plot(x_values, y1, 'r', linewidth=2, label='Linear Equation')\n",
    "\n",
    "    # Add labels and grid\n",
    "    plt.xlabel('x1')\n",
    "    plt.ylabel('x2')\n",
    "    plt.axis('equal')\n",
    "    plt.grid(True)\n",
    "    plt.xlim(-3, 3)\n",
    "    plt.ylim(-3, 3)\n",
    "    # Add legend\n",
    "    plt.legend()\n",
    "\n",
    "    # Show the plot\n",
    "    plt.show()\n",
    "\n",
    "# Create sliders for a1 and input boxes for x0 values\n",
    "a1_slider = FloatSlider(value=4*np.pi/5, min=-2*np.pi, max=2*np.pi, step=0.01, description='a1:')\n",
    "x0_x_input = FloatSlider(value=-0.4, min=-3, max=3, description='x0_(1)):')\n",
    "x0_y_input = FloatSlider(value=1.2, min=-3, max=3, description='x0_(2):')\n",
    "\n",
    "# Create the interactive plot\n",
    "interact(update_plot, a1=a1_slider, x0_x=x0_x_input, x0_y=x0_y_input)"
   ]
  }
 ],
 "metadata": {
  "kernelspec": {
   "display_name": "sandbox",
   "language": "python",
   "name": "python3"
  },
  "language_info": {
   "codemirror_mode": {
    "name": "ipython",
    "version": 3
   },
   "file_extension": ".py",
   "mimetype": "text/x-python",
   "name": "python",
   "nbconvert_exporter": "python",
   "pygments_lexer": "ipython3",
   "version": "3.11.5"
  }
 },
 "nbformat": 4,
 "nbformat_minor": 2
}
