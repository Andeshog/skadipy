{
 "cells": [
  {
   "cell_type": "markdown",
   "metadata": {},
   "source": [
    "# Using CBFs for forbidden zones"
   ]
  },
  {
   "cell_type": "markdown",
   "metadata": {},
   "source": [
    "To deal with the forbidden zones we can utilize a CBF with half plane constraints\n",
    "and solve it with quadratic programming.\n",
    "\n",
    "$$\n",
    "\\begin{aligned}\n",
    "U_1 &= \\{a_1^\\top u + b_1 \\leq 0\\} \\\\\n",
    "U_2 &= \\{a_2^\\top u + b_2 \\leq 0\\} \\\\\n",
    "U_b &= U_{b,1} \\cap U_{b,2}\n",
    "\\end{aligned}\n",
    "$$\n",
    "\n",
    "Which can than be formulated into\n",
    "\n",
    "$$\n",
    "\\begin{aligned}\n",
    "\\min_{\\substack{u \\\\\\kappa_i \\in U_{b,i}}} & \\quad u^\\top H u + p \\delta \\\\\n",
    "\\text{s.t.} & \\quad I u = \\kappa \\\\\n",
    "            & \\quad u_\\text{min} \\leq u \\leq u_\\text{max}\n",
    "\\end{aligned}\n",
    "$$"
   ]
  }
 ],
 "metadata": {
  "language_info": {
   "name": "python"
  }
 },
 "nbformat": 4,
 "nbformat_minor": 2
}
