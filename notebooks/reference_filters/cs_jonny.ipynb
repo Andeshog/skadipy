{
 "cells": [
  {
   "cell_type": "code",
   "execution_count": 1,
   "metadata": {},
   "outputs": [],
   "source": [
    "%reset -f\n",
    "\n",
    "import sys;\n",
    "# Import pythonrc\n",
    "sys.path.append('../')\n",
    "# Import mccontrolpy\n",
    "sys.path.append('../../src/')\n",
    "\n",
    "from pythonrc import *\n",
    "import numpy as np\n",
    "import scipy as sc\n",
    "import skadipy as mc\n",
    "import matplotlib.pyplot as plt\n",
    "%matplotlib inline\n",
    "\n",
    "import ipywidgets as widgets\n",
    "from ipywidgets import HBox, VBox\n",
    "from IPython.display import display\n",
    "\n",
    "allocator = skadipy.allocator.reference_filters.MinimumMagnitudeAndAzimuth(\n",
    "    actuators=[\n",
    "        tunnel,\n",
    "        voithschneider_port,\n",
    "        voithschneider_starboard\n",
    "    ],\n",
    "    force_torque_components=[\n",
    "        skadipy.allocator.ForceTorqueComponent.X,\n",
    "        skadipy.allocator.ForceTorqueComponent.Y,\n",
    "        skadipy.allocator.ForceTorqueComponent.N,\n",
    "    ],\n",
    "    gamma=0.0001,\n",
    "    mu=0.001,\n",
    "    rho=0.4,\n",
    "    control_barrier_function=skadipy.safety.ControlBarrierFunctionType.SUMSQUARE,\n",
    "    # derivative=mc.toolbox.derivative.ExponentialSmoothing(r=0.5)\n",
    ")\n",
    "allocator.compute_configuration_matrix()"
   ]
  },
  {
   "cell_type": "code",
   "execution_count": 2,
   "metadata": {},
   "outputs": [],
   "source": [
    "def plot_force(actuator: mc.actuator.ActuatorBase, axes: plt.axes):\n",
    "    pos = actuator.position\n",
    "    f = np.zeros((3,1))\n",
    "    f[:len(actuator.force), :] = actuator.force\n",
    "    f = actuator.orientation.rotate(f)\n",
    "    axes.quiver(pos.y, pos.x, f[1], f[0], scale_units='xy', angles='xy',clip_on=False)\n",
    "\n",
    "def plotter(tau_X, tau_Y, tau_N, fig: plt.figure = None):\n",
    "    tau = np.array([[tau_X, tau_Y, 0.0, 0.0, 0.0, tau_N]]).T\n",
    "\n",
    "    xi = allocator.allocate(tau=tau)\n",
    "    tau_alloc = np.reshape(allocator.allocated, (6,))\n",
    "\n",
    "    if fig is None:\n",
    "        fig, (ax1, ax2) = plt.subplots(1, 2, figsize=(10, 5))\n",
    "    else:\n",
    "        ax1, ax2 = fig.axes\n",
    "\n",
    "    ax1.axis('equal')\n",
    "\n",
    "    ax1.grid(True)\n",
    "\n",
    "    plot_force(tunnel, ax1)\n",
    "    plot_force(voithschneider_port, ax1)\n",
    "    plot_force(voithschneider_starboard, ax1)\n",
    "\n",
    "    efforts = np.array([\n",
    "        sc.linalg.norm(tunnel.force),\n",
    "        sc.linalg.norm(voithschneider_port.force),\n",
    "        sc.linalg.norm(voithschneider_starboard.force)\n",
    "    ])\n",
    "    ax2.bar(('tunnel', 'port', 'starboard'), efforts)\n",
    "    # ax2.set(ylim=[0, 1.5])\n",
    "    ax2.grid(True)\n",
    "\n",
    "    fig.canvas.draw()"
   ]
  },
  {
   "cell_type": "code",
   "execution_count": 3,
   "metadata": {},
   "outputs": [
    {
     "data": {
      "application/vnd.jupyter.widget-view+json": {
       "model_id": "6dd52c68da7e4669a9a42326bb46abcc",
       "version_major": 2,
       "version_minor": 0
      },
      "text/plain": [
       "Button(description='Step', style=ButtonStyle())"
      ]
     },
     "metadata": {},
     "output_type": "display_data"
    },
    {
     "data": {
      "application/vnd.jupyter.widget-view+json": {
       "model_id": "c53ffd32f8944aaaa4458c968571590b",
       "version_major": 2,
       "version_minor": 0
      },
      "text/plain": [
       "FloatSlider(value=0.0, description='tau_X', max=50.0, min=-50.0, step=0.005)"
      ]
     },
     "metadata": {},
     "output_type": "display_data"
    },
    {
     "data": {
      "application/vnd.jupyter.widget-view+json": {
       "model_id": "01a1dbf755b64d70b01e0c2449ede595",
       "version_major": 2,
       "version_minor": 0
      },
      "text/plain": [
       "FloatSlider(value=0.0, description='tau_Y', max=50.0, min=-50.0, step=0.005)"
      ]
     },
     "metadata": {},
     "output_type": "display_data"
    },
    {
     "data": {
      "application/vnd.jupyter.widget-view+json": {
       "model_id": "29b7902a53d146368efd8569c0b5b2f4",
       "version_major": 2,
       "version_minor": 0
      },
      "text/plain": [
       "FloatSlider(value=0.0, description='tau_N', max=10.0, min=-10.0, step=0.005)"
      ]
     },
     "metadata": {},
     "output_type": "display_data"
    },
    {
     "data": {
      "application/vnd.jupyter.widget-view+json": {
       "model_id": "acc0e241ca80426ba0a1f3b0b13faf7e",
       "version_major": 2,
       "version_minor": 0
      },
      "text/plain": [
       "Output()"
      ]
     },
     "metadata": {},
     "output_type": "display_data"
    }
   ],
   "source": [
    "tau_X_widget = widgets.FloatSlider(min=-50.0, max=50.0, step=0.005, description='tau_X')\n",
    "tau_Y_widget = widgets.FloatSlider(min=-50.0, max=50.0, step=0.005, description='tau_Y')\n",
    "tau_N_widget = widgets.FloatSlider(min=-10.0, max=10.0, step=0.005, description='tau_N')\n",
    "\n",
    "button = widgets.Button(description=\"Step\")\n",
    "output = widgets.Output()\n",
    "\n",
    "fig,(ax1, ax2) = plt.subplots(1, 2, figsize=(10, 5))\n",
    "\n",
    "def on_button_clicked(b):\n",
    "    with output:\n",
    "        output.clear_output(wait=True)\n",
    "        ax1.clear()\n",
    "        ax2.clear()\n",
    "        plotter(tau_X_widget.value, tau_Y_widget.value, tau_N_widget.value, fig=fig)\n",
    "        # fig.draw(fig.canvas.get_renderer())\n",
    "        display(fig)\n",
    "\n",
    "button.on_click(on_button_clicked)\n",
    "# display(output)\n",
    "display(button,  tau_X_widget, tau_Y_widget, tau_N_widget, output)"
   ]
  },
  {
   "cell_type": "code",
   "execution_count": 4,
   "metadata": {},
   "outputs": [],
   "source": [
    "dof_indices = [i.value for i in allocator.force_torque_components]\n",
    "xi = np.zeros((allocator._b_matrix[dof_indices, :].shape[1], 1), dtype=np.float32)\n"
   ]
  }
 ],
 "metadata": {
  "kernelspec": {
   "display_name": "sandbox",
   "language": "python",
   "name": "python3"
  },
  "language_info": {
   "codemirror_mode": {
    "name": "ipython",
    "version": 3
   },
   "file_extension": ".py",
   "mimetype": "text/x-python",
   "name": "python",
   "nbconvert_exporter": "python",
   "pygments_lexer": "ipython3",
   "version": "3.12.8"
  }
 },
 "nbformat": 4,
 "nbformat_minor": 4
}
